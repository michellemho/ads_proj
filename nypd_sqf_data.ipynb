{
 "cells": [
  {
   "cell_type": "code",
   "execution_count": 5,
   "metadata": {
    "collapsed": false
   },
   "outputs": [],
   "source": [
    "import pandas as pd\n",
    "import numpy as np\n",
    "from StringIO import StringIO\n",
    "from zipfile import ZipFile\n",
    "from urllib import urlopen\n",
    "import requests\n",
    "import csv\n",
    "import matplotlib.pylab as plt\n",
    "import seaborn as sns\n",
    "import pylab as pylab\n",
    "%matplotlib inline"
   ]
  },
  {
   "cell_type": "code",
   "execution_count": 6,
   "metadata": {
    "collapsed": false
   },
   "outputs": [],
   "source": [
    "def unzip_read_file(year):\n",
    "    url = urlopen(\"http://www.nyc.gov/html/nypd/downloads/zip/analysis_and_planning/{}_sqf_csv.zip\".format(year))\n",
    "    zipfile = ZipFile(StringIO(url.read()))\n",
    "    try:\n",
    "        with zipfile.open(\"{}.csv\".format(year)) as file:\n",
    "            df = pd.read_csv(file)\n",
    "    except: # 2015 csv name is different format than all the rest...go figure.\n",
    "        with zipfile.open(\"{}_sqf_csv.csv\".format(year)) as file:\n",
    "            df = pd.read_csv(file)\n",
    "    return df"
   ]
  },
  {
   "cell_type": "code",
   "execution_count": 7,
   "metadata": {
    "collapsed": false
   },
   "outputs": [],
   "source": [
    "df = pd.DataFrame()\n",
    "df = df.append(unzip_read_file(2015), ignore_index=True)\n"
   ]
  },
  {
   "cell_type": "code",
   "execution_count": null,
   "metadata": {
    "collapsed": true
   },
   "outputs": [],
   "source": [
    "# This will capture all data. Loading may take a while and will consume a fair amount of memory. Recommended 16GB \n",
    "# of memory if you want to run this cell...\n",
    "\n",
    "#\n",
    "for year in range(2003, 2016):\n",
    "    df = df.append(unzip_read_file(year), ignore_index=True)"
   ]
  },
  {
   "cell_type": "code",
   "execution_count": 6,
   "metadata": {
    "collapsed": false
   },
   "outputs": [],
   "source": []
  },
  {
   "cell_type": "code",
   "execution_count": 20,
   "metadata": {
    "collapsed": false
   },
   "outputs": [],
   "source": []
  },
  {
   "cell_type": "code",
   "execution_count": 13,
   "metadata": {
    "collapsed": false
   },
   "outputs": [
    {
     "data": {
      "text/plain": [
       "array([2015])"
      ]
     },
     "execution_count": 13,
     "metadata": {},
     "output_type": "execute_result"
    }
   ],
   "source": [
    "df.year.unique()"
   ]
  },
  {
   "cell_type": "code",
   "execution_count": 12,
   "metadata": {
    "collapsed": false,
    "scrolled": true
   },
   "outputs": [
    {
     "ename": "TypeError",
     "evalue": "'numpy.ndarray' object is not callable",
     "output_type": "error",
     "traceback": [
      "\u001b[0;31m---------------------------------------------------------------------------\u001b[0m",
      "\u001b[0;31mTypeError\u001b[0m                                 Traceback (most recent call last)",
      "\u001b[0;32m<ipython-input-12-2f2ecf63d55b>\u001b[0m in \u001b[0;36m<module>\u001b[0;34m()\u001b[0m\n\u001b[0;32m----> 1\u001b[0;31m \u001b[0mdf_sqf\u001b[0m \u001b[0;34m=\u001b[0m \u001b[0mpd\u001b[0m\u001b[0;34m.\u001b[0m\u001b[0mDataFrame\u001b[0m\u001b[0;34m.\u001b[0m\u001b[0mfrom_dict\u001b[0m\u001b[0;34m(\u001b[0m\u001b[0mdf\u001b[0m\u001b[0;34m,\u001b[0m \u001b[0morient\u001b[0m\u001b[0;34m=\u001b[0m\u001b[0;34m'index'\u001b[0m\u001b[0;34m)\u001b[0m\u001b[0;34m\u001b[0m\u001b[0m\n\u001b[0m",
      "\u001b[0;32m/Users/daraperl/anaconda/lib/python2.7/site-packages/pandas/core/frame.pyc\u001b[0m in \u001b[0;36mfrom_dict\u001b[0;34m(cls, data, orient, dtype)\u001b[0m\n\u001b[1;32m    757\u001b[0m             \u001b[0;32mif\u001b[0m \u001b[0mlen\u001b[0m\u001b[0;34m(\u001b[0m\u001b[0mdata\u001b[0m\u001b[0;34m)\u001b[0m \u001b[0;34m>\u001b[0m \u001b[0;36m0\u001b[0m\u001b[0;34m:\u001b[0m\u001b[0;34m\u001b[0m\u001b[0m\n\u001b[1;32m    758\u001b[0m                 \u001b[0;31m# TODO speed up Series case\u001b[0m\u001b[0;34m\u001b[0m\u001b[0;34m\u001b[0m\u001b[0m\n\u001b[0;32m--> 759\u001b[0;31m                 \u001b[0;32mif\u001b[0m \u001b[0misinstance\u001b[0m\u001b[0;34m(\u001b[0m\u001b[0mlist\u001b[0m\u001b[0;34m(\u001b[0m\u001b[0mdata\u001b[0m\u001b[0;34m.\u001b[0m\u001b[0mvalues\u001b[0m\u001b[0;34m(\u001b[0m\u001b[0;34m)\u001b[0m\u001b[0;34m)\u001b[0m\u001b[0;34m[\u001b[0m\u001b[0;36m0\u001b[0m\u001b[0;34m]\u001b[0m\u001b[0;34m,\u001b[0m \u001b[0;34m(\u001b[0m\u001b[0mSeries\u001b[0m\u001b[0;34m,\u001b[0m \u001b[0mdict\u001b[0m\u001b[0;34m)\u001b[0m\u001b[0;34m)\u001b[0m\u001b[0;34m:\u001b[0m\u001b[0;34m\u001b[0m\u001b[0m\n\u001b[0m\u001b[1;32m    760\u001b[0m                     \u001b[0mdata\u001b[0m \u001b[0;34m=\u001b[0m \u001b[0m_from_nested_dict\u001b[0m\u001b[0;34m(\u001b[0m\u001b[0mdata\u001b[0m\u001b[0;34m)\u001b[0m\u001b[0;34m\u001b[0m\u001b[0m\n\u001b[1;32m    761\u001b[0m                 \u001b[0;32melse\u001b[0m\u001b[0;34m:\u001b[0m\u001b[0;34m\u001b[0m\u001b[0m\n",
      "\u001b[0;31mTypeError\u001b[0m: 'numpy.ndarray' object is not callable"
     ]
    }
   ],
   "source": [
    "df_sqf = pd.DataFrame.from_dict(df, orient='index')"
   ]
  },
  {
   "cell_type": "code",
   "execution_count": 23,
   "metadata": {
    "collapsed": false
   },
   "outputs": [],
   "source": [
    "df_sqf.columns = ['Count']"
   ]
  },
  {
   "cell_type": "code",
   "execution_count": 28,
   "metadata": {
    "collapsed": false
   },
   "outputs": [
    {
     "name": "stderr",
     "output_type": "stream",
     "text": [
      "/opt/ds/lib/python2.7/site-packages/ipykernel/__main__.py:1: FutureWarning: sort(....) is deprecated, use sort_index(.....)\n",
      "  if __name__ == '__main__':\n"
     ]
    }
   ],
   "source": [
    "df_sqf = df_sqf.sort()"
   ]
  },
  {
   "cell_type": "code",
   "execution_count": 48,
   "metadata": {
    "collapsed": false
   },
   "outputs": [
    {
     "data": {
      "text/plain": [
       "<matplotlib.text.Text at 0x7f752174d210>"
      ]
     },
     "execution_count": 48,
     "metadata": {},
     "output_type": "execute_result"
    },
    {
     "data": {
      "image/png": "[encoded data removed]",
      "text/plain": [
       "<matplotlib.figure.Figure at 0x7f75219df110>"
      ]
     },
     "metadata": {},
     "output_type": "display_data"
    }
   ],
   "source": [
    "sns.set(color_codes=True)\n",
    "plt.figure(figsize=(15,8))\n",
    "plt.plot(df_sqf)\n",
    "plt.title('Count of SQF Incidents Recorded Over Time')"
   ]
  },
  {
   "cell_type": "code",
   "execution_count": 49,
   "metadata": {
    "collapsed": true
   },
   "outputs": [],
   "source": [
    "races = {'A': 'ASIAN/PACIFIC ISLANDER',\n",
    " 'B': 'BLACK',\n",
    " 'I': 'AMERICAN INDIAN/ALASKAN NATIVE',\n",
    " 'P': 'BLACK-HISPANIC',\n",
    " 'Q': 'WHITE-HISPANIC',\n",
    " 'W': 'WHITE',\n",
    " 'X': 'UNKNOWN',\n",
    " 'Z': 'OTHER'}"
   ]
  },
  {
   "cell_type": "code",
   "execution_count": 72,
   "metadata": {
    "collapsed": true
   },
   "outputs": [],
   "source": [
    "def read_race_count_2010(year):\n",
    "    file_path = 'data/{}.csv'.format(year)\n",
    "    with open(file_path, 'r') as csv_file:\n",
    "        reader = csv.reader(csv_file,delimiter = \",\")\n",
    "        race_count = {'A':0,\n",
    "        'B':0,\n",
    "        'I':0,\n",
    "        'P':0,\n",
    "        'Q':0,\n",
    "        'W':0,\n",
    "        'X':0,\n",
    "        'Z':0,\n",
    "        'Not Listed':0}\n",
    "        for row in reader:\n",
    "            for key in race_count.keys():\n",
    "                if row[80] == key:\n",
    "                    race_count[key] += 1\n",
    "        return race_count"
   ]
  },
  {
   "cell_type": "code",
   "execution_count": 69,
   "metadata": {
    "collapsed": true
   },
   "outputs": [],
   "source": [
    "def read_race_count(year):\n",
    "    file_path = 'data/{}.csv'.format(year)\n",
    "    with open(file_path, 'r') as csv_file:\n",
    "        reader = csv.reader(csv_file,delimiter = \",\")\n",
    "        race_count = {'A':0,\n",
    "        'B':0,\n",
    "        'I':0,\n",
    "        'P':0,\n",
    "        'Q':0,\n",
    "        'W':0,\n",
    "        'X':0,\n",
    "        'Z':0,\n",
    "        'Not Listed':0}\n",
    "        for row in reader:\n",
    "            for key in race_count.keys():\n",
    "                if row[81] == key:\n",
    "                    race_count[key] += 1\n",
    "        return race_count"
   ]
  },
  {
   "cell_type": "code",
   "execution_count": 70,
   "metadata": {
    "collapsed": false
   },
   "outputs": [],
   "source": [
    "df_racecount = {}\n",
    "for year in range(2003, 2016):\n",
    "    df_racecount['{}'.format(year)] = read_race_count(year)"
   ]
  },
  {
   "cell_type": "code",
   "execution_count": 73,
   "metadata": {
    "collapsed": false
   },
   "outputs": [],
   "source": [
    "for year in range(2003, 2011):\n",
    "    df_racecount['{}'.format(year)] = read_race_count_2010(year)"
   ]
  },
  {
   "cell_type": "code",
   "execution_count": 76,
   "metadata": {
    "collapsed": false
   },
   "outputs": [],
   "source": [
    "df_sqf_race = pd.DataFrame.from_dict(df_racecount, orient='index')"
   ]
  },
  {
   "cell_type": "code",
   "execution_count": 188,
   "metadata": {
    "collapsed": false
   },
   "outputs": [
    {
     "data": {
      "text/html": [
       "<div>\n",
       "<table border=\"1\" class=\"dataframe\">\n",
       "  <thead>\n",
       "    <tr style=\"text-align: right;\">\n",
       "      <th></th>\n",
       "      <th>Asian-Pacific Islander</th>\n",
       "      <th>Black-Hispanic</th>\n",
       "      <th>Black</th>\n",
       "      <th>White-Hispanic</th>\n",
       "      <th>White</th>\n",
       "      <th>Not Listed</th>\n",
       "      <th>American Indian/Alaskan Native</th>\n",
       "      <th>Unknown</th>\n",
       "      <th>Other</th>\n",
       "    </tr>\n",
       "  </thead>\n",
       "  <tbody>\n",
       "    <tr>\n",
       "      <th>2003</th>\n",
       "      <td>4138</td>\n",
       "      <td>8168</td>\n",
       "      <td>77704</td>\n",
       "      <td>36413</td>\n",
       "      <td>17623</td>\n",
       "      <td>0</td>\n",
       "      <td>416</td>\n",
       "      <td>2136</td>\n",
       "      <td>14089</td>\n",
       "    </tr>\n",
       "    <tr>\n",
       "      <th>2004</th>\n",
       "      <td>8526</td>\n",
       "      <td>16469</td>\n",
       "      <td>155033</td>\n",
       "      <td>73468</td>\n",
       "      <td>28913</td>\n",
       "      <td>0</td>\n",
       "      <td>1161</td>\n",
       "      <td>0</td>\n",
       "      <td>29943</td>\n",
       "    </tr>\n",
       "    <tr>\n",
       "      <th>2005</th>\n",
       "      <td>11859</td>\n",
       "      <td>21635</td>\n",
       "      <td>196570</td>\n",
       "      <td>93453</td>\n",
       "      <td>40713</td>\n",
       "      <td>0</td>\n",
       "      <td>1620</td>\n",
       "      <td>1</td>\n",
       "      <td>32260</td>\n",
       "    </tr>\n",
       "    <tr>\n",
       "      <th>2007</th>\n",
       "      <td>13150</td>\n",
       "      <td>27831</td>\n",
       "      <td>243766</td>\n",
       "      <td>114037</td>\n",
       "      <td>52887</td>\n",
       "      <td>0</td>\n",
       "      <td>1762</td>\n",
       "      <td>0</td>\n",
       "      <td>18202</td>\n",
       "    </tr>\n",
       "    <tr>\n",
       "      <th>2008</th>\n",
       "      <td>16491</td>\n",
       "      <td>32513</td>\n",
       "      <td>275588</td>\n",
       "      <td>135962</td>\n",
       "      <td>57650</td>\n",
       "      <td>0</td>\n",
       "      <td>2031</td>\n",
       "      <td>0</td>\n",
       "      <td>16730</td>\n",
       "    </tr>\n",
       "    <tr>\n",
       "      <th>2009</th>\n",
       "      <td>16845</td>\n",
       "      <td>35207</td>\n",
       "      <td>310611</td>\n",
       "      <td>144848</td>\n",
       "      <td>53601</td>\n",
       "      <td>0</td>\n",
       "      <td>2271</td>\n",
       "      <td>0</td>\n",
       "      <td>14346</td>\n",
       "    </tr>\n",
       "    <tr>\n",
       "      <th>2010</th>\n",
       "      <td>19732</td>\n",
       "      <td>38689</td>\n",
       "      <td>315083</td>\n",
       "      <td>150637</td>\n",
       "      <td>54810</td>\n",
       "      <td>0</td>\n",
       "      <td>2579</td>\n",
       "      <td>0</td>\n",
       "      <td>15360</td>\n",
       "    </tr>\n",
       "    <tr>\n",
       "      <th>2011</th>\n",
       "      <td>23932</td>\n",
       "      <td>48438</td>\n",
       "      <td>350743</td>\n",
       "      <td>175302</td>\n",
       "      <td>61805</td>\n",
       "      <td>0</td>\n",
       "      <td>2897</td>\n",
       "      <td>0</td>\n",
       "      <td>16867</td>\n",
       "    </tr>\n",
       "    <tr>\n",
       "      <th>2012</th>\n",
       "      <td>17058</td>\n",
       "      <td>35772</td>\n",
       "      <td>284229</td>\n",
       "      <td>129368</td>\n",
       "      <td>50366</td>\n",
       "      <td>0</td>\n",
       "      <td>2257</td>\n",
       "      <td>0</td>\n",
       "      <td>10102</td>\n",
       "    </tr>\n",
       "    <tr>\n",
       "      <th>2013</th>\n",
       "      <td>6845</td>\n",
       "      <td>12271</td>\n",
       "      <td>104449</td>\n",
       "      <td>42659</td>\n",
       "      <td>20820</td>\n",
       "      <td>0</td>\n",
       "      <td>818</td>\n",
       "      <td>0</td>\n",
       "      <td>2844</td>\n",
       "    </tr>\n",
       "    <tr>\n",
       "      <th>2014</th>\n",
       "      <td>2281</td>\n",
       "      <td>2789</td>\n",
       "      <td>24319</td>\n",
       "      <td>9700</td>\n",
       "      <td>5467</td>\n",
       "      <td>0</td>\n",
       "      <td>192</td>\n",
       "      <td>0</td>\n",
       "      <td>739</td>\n",
       "    </tr>\n",
       "    <tr>\n",
       "      <th>2015</th>\n",
       "      <td>1103</td>\n",
       "      <td>1409</td>\n",
       "      <td>11950</td>\n",
       "      <td>5090</td>\n",
       "      <td>2514</td>\n",
       "      <td>0</td>\n",
       "      <td>77</td>\n",
       "      <td>0</td>\n",
       "      <td>298</td>\n",
       "    </tr>\n",
       "  </tbody>\n",
       "</table>\n",
       "</div>"
      ],
      "text/plain": [
       "      Asian-Pacific Islander  Black-Hispanic   Black  White-Hispanic  White  \\\n",
       "2003                    4138            8168   77704           36413  17623   \n",
       "2004                    8526           16469  155033           73468  28913   \n",
       "2005                   11859           21635  196570           93453  40713   \n",
       "2007                   13150           27831  243766          114037  52887   \n",
       "2008                   16491           32513  275588          135962  57650   \n",
       "2009                   16845           35207  310611          144848  53601   \n",
       "2010                   19732           38689  315083          150637  54810   \n",
       "2011                   23932           48438  350743          175302  61805   \n",
       "2012                   17058           35772  284229          129368  50366   \n",
       "2013                    6845           12271  104449           42659  20820   \n",
       "2014                    2281            2789   24319            9700   5467   \n",
       "2015                    1103            1409   11950            5090   2514   \n",
       "\n",
       "      Not Listed  American Indian/Alaskan Native  Unknown  Other  \n",
       "2003           0                             416     2136  14089  \n",
       "2004           0                            1161        0  29943  \n",
       "2005           0                            1620        1  32260  \n",
       "2007           0                            1762        0  18202  \n",
       "2008           0                            2031        0  16730  \n",
       "2009           0                            2271        0  14346  \n",
       "2010           0                            2579        0  15360  \n",
       "2011           0                            2897        0  16867  \n",
       "2012           0                            2257        0  10102  \n",
       "2013           0                             818        0   2844  \n",
       "2014           0                             192        0    739  \n",
       "2015           0                              77        0    298  "
      ]
     },
     "execution_count": 188,
     "metadata": {},
     "output_type": "execute_result"
    }
   ],
   "source": [
    "df_sqf_race = df_sqf_race[(df_sqf_race.T != 0).any()]\n",
    "df_sqf_race.columns = ['Asian-Pacific Islander','Black-Hispanic','Black','White-Hispanic','White','Not Listed','American Indian/Alaskan Native','Unknown','Other']\n",
    "\n",
    "races = {'A': 'ASIAN/PACIFIC ISLANDER',\n",
    " 'B': 'BLACK',\n",
    " 'I': 'AMERICAN INDIAN/ALASKAN NATIVE',\n",
    " 'P': 'BLACK-HISPANIC',\n",
    " 'Q': 'WHITE-HISPANIC',\n",
    " 'W': 'WHITE',\n",
    " 'X': 'UNKNOWN',\n",
    " 'Z': 'OTHER'}\n",
    "\n",
    "df_sqf_race"
   ]
  },
  {
   "cell_type": "code",
   "execution_count": 183,
   "metadata": {
    "collapsed": false
   },
   "outputs": [],
   "source": [
    "df_sqf_race = df_sqf_race[(df_sqf_race != 0).any(axis=1)]"
   ]
  },
  {
   "cell_type": "code",
   "execution_count": 185,
   "metadata": {
    "collapsed": false
   },
   "outputs": [
    {
     "data": {
      "text/plain": [
       "<matplotlib.axes._subplots.AxesSubplot at 0x7f751972e410>"
      ]
     },
     "execution_count": 185,
     "metadata": {},
     "output_type": "execute_result"
    },
    {
     "data": {
      "text/plain": [
       "<matplotlib.figure.Figure at 0x7f75195deed0>"
      ]
     },
     "metadata": {},
     "output_type": "display_data"
    },
    {
     "data": {
      "image/png": "[encoded data removed]",
      "text/plain": [
       "<matplotlib.figure.Figure at 0x7f7519b7d8d0>"
      ]
     },
     "metadata": {},
     "output_type": "display_data"
    }
   ],
   "source": [
    "plt.figure(figsize=(10,10))\n",
    "df_sqf_race.plot.area(figsize=(15,10), colormap='Dark2')\n"
   ]
  },
  {
   "cell_type": "code",
   "execution_count": 190,
   "metadata": {
    "collapsed": true
   },
   "outputs": [],
   "source": [
    "def arrest_count(year):\n",
    "    file_path = 'data/{}.csv'.format(year)\n",
    "    with open(file_path, 'r') as csv_file:\n",
    "        reader = csv.reader(csv_file,delimiter = \",\")\n",
    "        arrest_count={\n",
    "            'Y': 0,\n",
    "            'N': 0\n",
    "        }\n",
    "        for row in reader:\n",
    "            if row[14] == 'Y':\n",
    "                arrest_count['Y'] += 1\n",
    "            elif row[14] == 'N':\n",
    "                arrest_count['N'] += 1\n",
    "                \n",
    "        return arrest_count"
   ]
  },
  {
   "cell_type": "code",
   "execution_count": 191,
   "metadata": {
    "collapsed": true
   },
   "outputs": [],
   "source": [
    "df_arrestcount = {}\n",
    "for year in range(2003, 2016):\n",
    "    df_arrestcount['{}'.format(year)] = arrest_count(year)"
   ]
  },
  {
   "cell_type": "code",
   "execution_count": 195,
   "metadata": {
    "collapsed": false
   },
   "outputs": [],
   "source": [
    "pd_arrests = pd.DataFrame(df_arrestcount)"
   ]
  },
  {
   "cell_type": "code",
   "execution_count": 201,
   "metadata": {
    "collapsed": false
   },
   "outputs": [
    {
     "data": {
      "text/html": [
       "<div>\n",
       "<table border=\"1\" class=\"dataframe\">\n",
       "  <thead>\n",
       "    <tr style=\"text-align: right;\">\n",
       "      <th></th>\n",
       "      <th>2003</th>\n",
       "      <th>2004</th>\n",
       "      <th>2005</th>\n",
       "      <th>2006</th>\n",
       "      <th>2007</th>\n",
       "      <th>2008</th>\n",
       "      <th>2009</th>\n",
       "      <th>2010</th>\n",
       "      <th>2011</th>\n",
       "      <th>2012</th>\n",
       "      <th>2013</th>\n",
       "      <th>2014</th>\n",
       "      <th>2015</th>\n",
       "    </tr>\n",
       "  </thead>\n",
       "  <tbody>\n",
       "    <tr>\n",
       "      <th>N</th>\n",
       "      <td>148366</td>\n",
       "      <td>297168</td>\n",
       "      <td>379128</td>\n",
       "      <td>485544</td>\n",
       "      <td>444464</td>\n",
       "      <td>508096</td>\n",
       "      <td>546249</td>\n",
       "      <td>560201</td>\n",
       "      <td>644841</td>\n",
       "      <td>500596</td>\n",
       "      <td>176408</td>\n",
       "      <td>38889</td>\n",
       "      <td>18595</td>\n",
       "    </tr>\n",
       "    <tr>\n",
       "      <th>Y</th>\n",
       "      <td>12485</td>\n",
       "      <td>16354</td>\n",
       "      <td>19063</td>\n",
       "      <td>20947</td>\n",
       "      <td>27632</td>\n",
       "      <td>32206</td>\n",
       "      <td>34919</td>\n",
       "      <td>41084</td>\n",
       "      <td>40883</td>\n",
       "      <td>32315</td>\n",
       "      <td>15443</td>\n",
       "      <td>6898</td>\n",
       "      <td>3968</td>\n",
       "    </tr>\n",
       "  </tbody>\n",
       "</table>\n",
       "</div>"
      ],
      "text/plain": [
       "     2003    2004    2005    2006    2007    2008    2009    2010    2011  \\\n",
       "N  148366  297168  379128  485544  444464  508096  546249  560201  644841   \n",
       "Y   12485   16354   19063   20947   27632   32206   34919   41084   40883   \n",
       "\n",
       "     2012    2013   2014   2015  \n",
       "N  500596  176408  38889  18595  \n",
       "Y   32315   15443   6898   3968  "
      ]
     },
     "execution_count": 201,
     "metadata": {},
     "output_type": "execute_result"
    }
   ],
   "source": [
    "pd_arrests"
   ]
  },
  {
   "cell_type": "code",
   "execution_count": 204,
   "metadata": {
    "collapsed": false
   },
   "outputs": [],
   "source": [
    "pd_arrests = pd_arrests.T"
   ]
  },
  {
   "cell_type": "code",
   "execution_count": 213,
   "metadata": {
    "collapsed": false
   },
   "outputs": [],
   "source": [
    "pd_arrests['Total'] = pd_arrests['N']+pd_arrests['Y']"
   ]
  },
  {
   "cell_type": "code",
   "execution_count": 214,
   "metadata": {
    "collapsed": false
   },
   "outputs": [],
   "source": [
    "pd_arrests['Arrest Rate'] = pd_arrests['Y']/pd_arrests['Total']"
   ]
  },
  {
   "cell_type": "code",
   "execution_count": 215,
   "metadata": {
    "collapsed": false
   },
   "outputs": [
    {
     "data": {
      "text/plain": [
       "<matplotlib.axes._subplots.AxesSubplot at 0x7f7518e00950>"
      ]
     },
     "execution_count": 215,
     "metadata": {},
     "output_type": "execute_result"
    },
    {
     "data": {
      "image/png": "[encoded data removed]",
      "text/plain": [
       "<matplotlib.figure.Figure at 0x7f7518d726d0>"
      ]
     },
     "metadata": {},
     "output_type": "display_data"
    }
   ],
   "source": [
    "pd_arrests['Arrest Rate'].plot(title='Arrest Rate from SQF Incidents Over Time')"
   ]
  },
  {
   "cell_type": "code",
   "execution_count": 216,
   "metadata": {
    "collapsed": false
   },
   "outputs": [
    {
     "data": {
      "text/html": [
       "<div>\n",
       "<table border=\"1\" class=\"dataframe\">\n",
       "  <thead>\n",
       "    <tr style=\"text-align: right;\">\n",
       "      <th></th>\n",
       "      <th>N</th>\n",
       "      <th>Y</th>\n",
       "      <th>Total</th>\n",
       "      <th>Arrest Rate</th>\n",
       "    </tr>\n",
       "  </thead>\n",
       "  <tbody>\n",
       "    <tr>\n",
       "      <th>2003</th>\n",
       "      <td>148366</td>\n",
       "      <td>12485</td>\n",
       "      <td>160851</td>\n",
       "      <td>0.077618</td>\n",
       "    </tr>\n",
       "    <tr>\n",
       "      <th>2004</th>\n",
       "      <td>297168</td>\n",
       "      <td>16354</td>\n",
       "      <td>313522</td>\n",
       "      <td>0.052162</td>\n",
       "    </tr>\n",
       "    <tr>\n",
       "      <th>2005</th>\n",
       "      <td>379128</td>\n",
       "      <td>19063</td>\n",
       "      <td>398191</td>\n",
       "      <td>0.047874</td>\n",
       "    </tr>\n",
       "    <tr>\n",
       "      <th>2006</th>\n",
       "      <td>485544</td>\n",
       "      <td>20947</td>\n",
       "      <td>506491</td>\n",
       "      <td>0.041357</td>\n",
       "    </tr>\n",
       "    <tr>\n",
       "      <th>2007</th>\n",
       "      <td>444464</td>\n",
       "      <td>27632</td>\n",
       "      <td>472096</td>\n",
       "      <td>0.058530</td>\n",
       "    </tr>\n",
       "    <tr>\n",
       "      <th>2008</th>\n",
       "      <td>508096</td>\n",
       "      <td>32206</td>\n",
       "      <td>540302</td>\n",
       "      <td>0.059607</td>\n",
       "    </tr>\n",
       "    <tr>\n",
       "      <th>2009</th>\n",
       "      <td>546249</td>\n",
       "      <td>34919</td>\n",
       "      <td>581168</td>\n",
       "      <td>0.060084</td>\n",
       "    </tr>\n",
       "    <tr>\n",
       "      <th>2010</th>\n",
       "      <td>560201</td>\n",
       "      <td>41084</td>\n",
       "      <td>601285</td>\n",
       "      <td>0.068327</td>\n",
       "    </tr>\n",
       "    <tr>\n",
       "      <th>2011</th>\n",
       "      <td>644841</td>\n",
       "      <td>40883</td>\n",
       "      <td>685724</td>\n",
       "      <td>0.059620</td>\n",
       "    </tr>\n",
       "    <tr>\n",
       "      <th>2012</th>\n",
       "      <td>500596</td>\n",
       "      <td>32315</td>\n",
       "      <td>532911</td>\n",
       "      <td>0.060639</td>\n",
       "    </tr>\n",
       "    <tr>\n",
       "      <th>2013</th>\n",
       "      <td>176408</td>\n",
       "      <td>15443</td>\n",
       "      <td>191851</td>\n",
       "      <td>0.080495</td>\n",
       "    </tr>\n",
       "    <tr>\n",
       "      <th>2014</th>\n",
       "      <td>38889</td>\n",
       "      <td>6898</td>\n",
       "      <td>45787</td>\n",
       "      <td>0.150654</td>\n",
       "    </tr>\n",
       "    <tr>\n",
       "      <th>2015</th>\n",
       "      <td>18595</td>\n",
       "      <td>3968</td>\n",
       "      <td>22563</td>\n",
       "      <td>0.175863</td>\n",
       "    </tr>\n",
       "  </tbody>\n",
       "</table>\n",
       "</div>"
      ],
      "text/plain": [
       "           N      Y   Total  Arrest Rate\n",
       "2003  148366  12485  160851     0.077618\n",
       "2004  297168  16354  313522     0.052162\n",
       "2005  379128  19063  398191     0.047874\n",
       "2006  485544  20947  506491     0.041357\n",
       "2007  444464  27632  472096     0.058530\n",
       "2008  508096  32206  540302     0.059607\n",
       "2009  546249  34919  581168     0.060084\n",
       "2010  560201  41084  601285     0.068327\n",
       "2011  644841  40883  685724     0.059620\n",
       "2012  500596  32315  532911     0.060639\n",
       "2013  176408  15443  191851     0.080495\n",
       "2014   38889   6898   45787     0.150654\n",
       "2015   18595   3968   22563     0.175863"
      ]
     },
     "execution_count": 216,
     "metadata": {},
     "output_type": "execute_result"
    }
   ],
   "source": [
    "pd_arrests"
   ]
  },
  {
   "cell_type": "code",
   "execution_count": null,
   "metadata": {
    "collapsed": true
   },
   "outputs": [],
   "source": []
  }
 ],
 "metadata": {
  "kernelspec": {
   "display_name": "Python 2",
   "language": "python",
   "name": "python2"
  },
  "language_info": {
   "codemirror_mode": {
    "name": "ipython",
    "version": 2
   },
   "file_extension": ".py",
   "mimetype": "text/x-python",
   "name": "python",
   "nbconvert_exporter": "python",
   "pygments_lexer": "ipython2",
   "version": "2.7.12"
  }
 },
 "nbformat": 4,
 "nbformat_minor": 0
}
